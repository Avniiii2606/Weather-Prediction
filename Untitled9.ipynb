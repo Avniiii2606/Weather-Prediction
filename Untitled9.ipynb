{
  "nbformat": 4,
  "nbformat_minor": 0,
  "metadata": {
    "colab": {
      "provenance": [],
      "authorship_tag": "ABX9TyMsbmedXZm7+Jx9HybSVia7",
      "include_colab_link": true
    },
    "kernelspec": {
      "name": "python3",
      "display_name": "Python 3"
    },
    "language_info": {
      "name": "python"
    }
  },
  "cells": [
    {
      "cell_type": "markdown",
      "metadata": {
        "id": "view-in-github",
        "colab_type": "text"
      },
      "source": [
        "<a href=\"https://colab.research.google.com/github/Avniiii2606/Weather-Prediction/blob/main/Untitled9.ipynb\" target=\"_parent\"><img src=\"https://colab.research.google.com/assets/colab-badge.svg\" alt=\"Open In Colab\"/></a>"
      ]
    },
    {
      "cell_type": "code",
      "execution_count": null,
      "metadata": {
        "colab": {
          "base_uri": "https://localhost:8080/"
        },
        "id": "H6x4EOFBWCFL",
        "outputId": "6eca9533-f7be-49a5-ed6a-5fd4956154ce"
      },
      "outputs": [
        {
          "output_type": "stream",
          "name": "stdout",
          "text": [
            "Mounted at /content/drive\n"
          ]
        }
      ],
      "source": [
        "from google.colab import drive\n",
        "drive.mount(\"/content/drive\")"
      ]
    },
    {
      "cell_type": "code",
      "source": [
        "import pandas as pd\n",
        "df=pd.read_csv(\"/content/drive/MyDrive/GlobalWeatherRepository.csv\")"
      ],
      "metadata": {
        "id": "WSyE9uioWeUH"
      },
      "execution_count": null,
      "outputs": []
    },
    {
      "cell_type": "code",
      "source": [
        "df.info()"
      ],
      "metadata": {
        "colab": {
          "base_uri": "https://localhost:8080/"
        },
        "id": "SJunSu1MasAB",
        "outputId": "761f455d-1ea7-469c-8c01-ce7d6d40e276"
      },
      "execution_count": null,
      "outputs": [
        {
          "output_type": "stream",
          "name": "stdout",
          "text": [
            "<class 'pandas.core.frame.DataFrame'>\n",
            "RangeIndex: 12963 entries, 0 to 12962\n",
            "Data columns (total 41 columns):\n",
            " #   Column                        Non-Null Count  Dtype  \n",
            "---  ------                        --------------  -----  \n",
            " 0   country                       12963 non-null  object \n",
            " 1   location_name                 12963 non-null  object \n",
            " 2   latitude                      12963 non-null  float64\n",
            " 3   longitude                     12963 non-null  float64\n",
            " 4   timezone                      12963 non-null  object \n",
            " 5   last_updated_epoch            12963 non-null  int64  \n",
            " 6   last_updated                  12963 non-null  object \n",
            " 7   temperature_celsius           12963 non-null  float64\n",
            " 8   temperature_fahrenheit        12963 non-null  float64\n",
            " 9   condition_text                12963 non-null  object \n",
            " 10  wind_mph                      12963 non-null  float64\n",
            " 11  wind_kph                      12963 non-null  float64\n",
            " 12  wind_degree                   12963 non-null  int64  \n",
            " 13  wind_direction                12963 non-null  object \n",
            " 14  pressure_mb                   12963 non-null  float64\n",
            " 15  pressure_in                   12963 non-null  float64\n",
            " 16  precip_mm                     12963 non-null  float64\n",
            " 17  precip_in                     12963 non-null  float64\n",
            " 18  humidity                      12963 non-null  int64  \n",
            " 19  cloud                         12963 non-null  int64  \n",
            " 20  feels_like_celsius            12963 non-null  float64\n",
            " 21  feels_like_fahrenheit         12963 non-null  float64\n",
            " 22  visibility_km                 12963 non-null  float64\n",
            " 23  visibility_miles              12963 non-null  float64\n",
            " 24  uv_index                      12963 non-null  float64\n",
            " 25  gust_mph                      12963 non-null  float64\n",
            " 26  gust_kph                      12963 non-null  float64\n",
            " 27  air_quality_Carbon_Monoxide   12963 non-null  float64\n",
            " 28  air_quality_Ozone             12963 non-null  float64\n",
            " 29  air_quality_Nitrogen_dioxide  12963 non-null  float64\n",
            " 30  air_quality_Sulphur_dioxide   12963 non-null  float64\n",
            " 31  air_quality_PM2.5             12963 non-null  float64\n",
            " 32  air_quality_PM10              12963 non-null  float64\n",
            " 33  air_quality_us-epa-index      12963 non-null  int64  \n",
            " 34  air_quality_gb-defra-index    12963 non-null  int64  \n",
            " 35  sunrise                       12963 non-null  object \n",
            " 36  sunset                        12963 non-null  object \n",
            " 37  moonrise                      12963 non-null  object \n",
            " 38  moonset                       12963 non-null  object \n",
            " 39  moon_phase                    12963 non-null  object \n",
            " 40  moon_illumination             12963 non-null  int64  \n",
            "dtypes: float64(23), int64(7), object(11)\n",
            "memory usage: 4.1+ MB\n"
          ]
        }
      ]
    },
    {
      "cell_type": "code",
      "source": [
        "from sklearn.model_selection import train_test_split\n",
        "from sklearn.tree import DecisionTreeRegressor\n",
        "from sklearn.metrics import mean_squared_error, r2_score,confusion_matrix"
      ],
      "metadata": {
        "id": "NjSS2MUlawrI"
      },
      "execution_count": null,
      "outputs": []
    },
    {
      "cell_type": "code",
      "source": [
        "df_search = df['timezone']\n",
        "value=\"Asia/\"\n",
        "matches = list(filter(lambda s: value in s, df_search))\n",
        "unique_values_column1 = pd.unique(matches)\n",
        "print(f\"Strings containing',{unique_values_column1}\")"
      ],
      "metadata": {
        "colab": {
          "base_uri": "https://localhost:8080/"
        },
        "id": "nQ0I48mibkOJ",
        "outputId": "7f2d5343-855e-4288-fa50-a33b35a02c9f"
      },
      "execution_count": null,
      "outputs": [
        {
          "output_type": "stream",
          "name": "stdout",
          "text": [
            "Strings containing',['Asia/Kabul' 'Asia/Yerevan' 'Asia/Baku' 'Asia/Bahrain' 'Asia/Dhaka'\n",
            " 'Asia/Thimphu' 'Asia/Brunei' 'Asia/Phnom_Penh' 'Asia/Shanghai'\n",
            " 'Asia/Famagusta' 'Asia/Tbilisi' 'Asia/Kolkata' 'Asia/Jakarta'\n",
            " 'Asia/Tehran' 'Asia/Baghdad' 'Asia/Jerusalem' 'Asia/Tokyo' 'Asia/Amman'\n",
            " 'Asia/Almaty' 'Asia/Kuwait' 'Asia/Bishkek' 'Asia/Beirut' 'Asia/Bangkok'\n",
            " 'Asia/Kuala_Lumpur' 'Asia/Ulaanbaatar' 'Asia/Yangon' 'Asia/Kathmandu'\n",
            " 'Asia/Pyongyang' 'Asia/Muscat' 'Asia/Karachi' 'Asia/Manila' 'Asia/Qatar'\n",
            " 'Asia/Riyadh' 'Asia/Singapore' 'Asia/Seoul' 'Asia/Colombo'\n",
            " 'Asia/Damascus' 'Asia/Dushanbe' 'Asia/Dili' 'Asia/Ashgabat' 'Asia/Dubai'\n",
            " 'Asia/Tashkent' 'Asia/Aden' 'Asia/Ho_Chi_Minh' 'Asia/Kuching']\n"
          ]
        },
        {
          "output_type": "stream",
          "name": "stderr",
          "text": [
            "<ipython-input-11-5b59fc816d60>:4: FutureWarning: unique with argument that is not not a Series, Index, ExtensionArray, or np.ndarray is deprecated and will raise in a future version.\n",
            "  unique_values_column1 = pd.unique(matches)\n"
          ]
        }
      ]
    },
    {
      "cell_type": "code",
      "source": [
        "Total=['Asia/Kabul' ,'Asia/Yerevan' ,'Asia/Baku' ,'Asia/Bahrain', 'Asia/Dhaka',\n",
        " 'Asia/Thimphu', 'Asia/Brunei' ,'Asia/Phnom_Penh', 'Asia/Shanghai',\n",
        " 'Asia/Famagusta', 'Asia/Tbilisi' ,'Asia/Kolkata', 'Asia/Jakarta',\n",
        " 'Asia/Tehran', 'Asia/Baghdad' ,'Asia/Jerusalem', 'Asia/Amman',\n",
        " 'Asia/Almaty', 'Asia/Kuwait', 'Asia/Bishkek',  'Asia/Bangkok',\n",
        " 'Asia/Kuala_Lumpur', 'Asia/Ulaanbaatar' ,'Asia/Yangon' ,'Asia/Kathmandu',\n",
        " 'Asia/Pyongyang', 'Asia/Muscat', 'Asia/Karachi', 'Asia/Manila', 'Asia/Qatar',\n",
        " 'Asia/Riyadh' ,'Asia/Singapore', 'Asia/Seoul', 'Asia/Colombo',\n",
        " 'Asia/Damascus', 'Asia/Dushanbe' ,'Asia/Dili' ,'Asia/Ashgabat' ,'Asia/Dubai',\n",
        " 'Asia/Tashkent' ,'Asia/Aden'  , 'Asia/Tokyo','Asia/Beirut']\n",
        "\n",
        "# removing 'Asia/Ho_Chi_Minh' and 'Asia/Kuching' as they have very few values\n",
        "mse_results = []\n",
        "r2_results = []\n",
        "\n",
        "for i in range(len(Total)):\n",
        "  dfi= df.loc[df['timezone'] == Total[i]]\n",
        "  dfi.reset_index(drop=True, inplace=True)\n",
        "  dfi = dfi.drop(columns=['country', 'location_name', 'latitude', 'longitude', 'timezone', 'last_updated_epoch','last_updated',\n",
        "                      'condition_text','feels_like_fahrenheit','uv_index','air_quality_Carbon_Monoxide','air_quality_Ozone', 'air_quality_Nitrogen_dioxide',\n",
        "                      'air_quality_Sulphur_dioxide','air_quality_PM2.5','air_quality_PM10','air_quality_us-epa-index','air_quality_gb-defra-index'\n",
        "                       ,'sunrise','sunset','moonrise','moonset','moon_phase','moon_illumination' ,'wind_direction'])\n",
        "  dfi.ffill( inplace=True)\n",
        "  X=dfi.drop(columns=['precip_mm'])\n",
        "  y=dfi['precip_mm']\n",
        "  X_train, X_test, y_train, y_test = train_test_split(X, y, test_size=0.2, random_state=42)\n",
        "  model =DecisionTreeRegressor(random_state = 42)\n",
        "  model.fit(X_train, y_train)\n",
        "  y_pred = model.predict(X_test)\n",
        "  mse = mean_squared_error(y_test, y_pred)\n",
        "  r2 = r2_score(y_test, y_pred)\n",
        "  mse_results.append(mse)\n",
        "  r2_results.append(r2)\n",
        "  print(f'Timezone: {Total[i]}')\n",
        "  print(f'Mean Squared Error: {mse}')\n",
        "  print(f'R-squared: {r2}')\n",
        "  print(\"\")\n",
        "MSE = pd.DataFrame(mse_results)\n",
        "r2 = pd.DataFrame(r2_results)\n",
        "sumMSE = MSE.sum()\n",
        "lenMSE= len(MSE)\n",
        "sumR2 = r2.sum()\n",
        "lenR2 = len(r2)\n",
        "print(f'Average Mean Squared Error: ',sumMSE/lenMSE)\n",
        "print(f'Average R-squared: ',sumR2/lenR2)\n"
      ],
      "metadata": {
        "colab": {
          "base_uri": "https://localhost:8080/"
        },
        "id": "cZf8RzCrb5hK",
        "outputId": "af64c6a5-cc2b-447b-83f9-11ee55a2a2fc"
      },
      "execution_count": null,
      "outputs": [
        {
          "output_type": "stream",
          "name": "stdout",
          "text": [
            "Timezone: Asia/Kabul\n",
            "Mean Squared Error: 0.24911428571428576\n",
            "R-squared: -0.019246666277001445\n",
            "\n",
            "Timezone: Asia/Yerevan\n",
            "Mean Squared Error: 0.004771428571428571\n",
            "R-squared: 0.7530368648991232\n",
            "\n",
            "Timezone: Asia/Baku\n",
            "Mean Squared Error: 7.1428571428571436e-06\n",
            "R-squared: 0.0\n",
            "\n",
            "Timezone: Asia/Bahrain\n",
            "Mean Squared Error: 0.0\n",
            "R-squared: 1.0\n",
            "\n",
            "Timezone: Asia/Dhaka\n",
            "Mean Squared Error: 10.616914285714287\n",
            "R-squared: -0.7323780584253947\n",
            "\n",
            "Timezone: Asia/Thimphu\n",
            "Mean Squared Error: 0.0057714285714285714\n",
            "R-squared: 0.9210739303954676\n",
            "\n",
            "Timezone: Asia/Brunei\n",
            "Mean Squared Error: 0.20024285714285703\n",
            "R-squared: 0.7789451688539761\n",
            "\n",
            "Timezone: Asia/Phnom_Penh\n",
            "Mean Squared Error: 0.008264285714285712\n",
            "R-squared: 0.8988491104491779\n",
            "\n",
            "Timezone: Asia/Shanghai\n",
            "Mean Squared Error: 0.00105\n",
            "R-squared: -157.3076923076923\n",
            "\n",
            "Timezone: Asia/Famagusta\n",
            "Mean Squared Error: 0.0\n",
            "R-squared: 1.0\n",
            "\n",
            "Timezone: Asia/Tbilisi\n",
            "Mean Squared Error: 0.0005923076923076923\n",
            "R-squared: 0.7073099415204678\n",
            "\n",
            "Timezone: Asia/Kolkata\n",
            "Mean Squared Error: 0.0010642857142857125\n",
            "R-squared: 0.9905452139111359\n",
            "\n",
            "Timezone: Asia/Jakarta\n",
            "Mean Squared Error: 0.011270370370370373\n",
            "R-squared: 0.7925803438438817\n",
            "\n",
            "Timezone: Asia/Tehran\n",
            "Mean Squared Error: 0.049840740740740734\n",
            "R-squared: -13973.576923076924\n",
            "\n",
            "Timezone: Asia/Baghdad\n",
            "Mean Squared Error: 0.0\n",
            "R-squared: 1.0\n",
            "\n",
            "Timezone: Asia/Jerusalem\n",
            "Mean Squared Error: 0.0\n",
            "R-squared: 1.0\n",
            "\n",
            "Timezone: Asia/Amman\n",
            "Mean Squared Error: 0.0\n",
            "R-squared: 1.0\n",
            "\n",
            "Timezone: Asia/Almaty\n",
            "Mean Squared Error: 0.06457857142857142\n",
            "R-squared: 0.7249300231227942\n",
            "\n",
            "Timezone: Asia/Kuwait\n",
            "Mean Squared Error: 0.0\n",
            "R-squared: 1.0\n",
            "\n",
            "Timezone: Asia/Bishkek\n",
            "Mean Squared Error: 0.1868071428571428\n",
            "R-squared: 0.8408830953010055\n",
            "\n",
            "Timezone: Asia/Bangkok\n",
            "Mean Squared Error: 0.0757813953488372\n",
            "R-squared: 0.9283626894030413\n",
            "\n",
            "Timezone: Asia/Kuala_Lumpur\n",
            "Mean Squared Error: 0.028564285714285716\n",
            "R-squared: 0.9552375919158065\n",
            "\n",
            "Timezone: Asia/Ulaanbaatar\n",
            "Mean Squared Error: 2.0839000000000003\n",
            "R-squared: -0.025473363689133333\n",
            "\n",
            "Timezone: Asia/Yangon\n",
            "Mean Squared Error: 0.488492857142857\n",
            "R-squared: 0.7110839865114631\n",
            "\n",
            "Timezone: Asia/Kathmandu\n",
            "Mean Squared Error: 2.9686071428571443\n",
            "R-squared: 0.44127912738267794\n",
            "\n",
            "Timezone: Asia/Pyongyang\n",
            "Mean Squared Error: 0.2522357142857143\n",
            "R-squared: 0.16943671176354957\n",
            "\n",
            "Timezone: Asia/Muscat\n",
            "Mean Squared Error: 0.0\n",
            "R-squared: 1.0\n",
            "\n",
            "Timezone: Asia/Karachi\n",
            "Mean Squared Error: 0.00017857142857142854\n",
            "R-squared: 0.25213675213675213\n",
            "\n",
            "Timezone: Asia/Manila\n",
            "Mean Squared Error: 0.12640000000000004\n",
            "R-squared: 0.7576499842994472\n",
            "\n",
            "Timezone: Asia/Qatar\n",
            "Mean Squared Error: 0.0\n",
            "R-squared: 1.0\n",
            "\n",
            "Timezone: Asia/Riyadh\n",
            "Mean Squared Error: 0.0\n",
            "R-squared: 1.0\n",
            "\n",
            "Timezone: Asia/Singapore\n",
            "Mean Squared Error: 0.032871428571428565\n",
            "R-squared: 0.8998252368010249\n",
            "\n",
            "Timezone: Asia/Seoul\n",
            "Mean Squared Error: 0.01088571428571429\n",
            "R-squared: 0.9839464641364942\n",
            "\n",
            "Timezone: Asia/Colombo\n",
            "Mean Squared Error: 0.05311428571428571\n",
            "R-squared: 0.9097143927593898\n",
            "\n",
            "Timezone: Asia/Damascus\n",
            "Mean Squared Error: 0.00025714285714285715\n",
            "R-squared: -0.0769230769230771\n",
            "\n",
            "Timezone: Asia/Dushanbe\n",
            "Mean Squared Error: 0.017099999999999997\n",
            "R-squared: 0.5005141503107258\n",
            "\n",
            "Timezone: Asia/Dili\n",
            "Mean Squared Error: 3.076923076923076e-05\n",
            "R-squared: 0.543859649122807\n",
            "\n",
            "Timezone: Asia/Ashgabat\n",
            "Mean Squared Error: 0.01127857142857143\n",
            "R-squared: -0.13132036847492268\n",
            "\n",
            "Timezone: Asia/Dubai\n",
            "Mean Squared Error: 0.0\n",
            "R-squared: 1.0\n",
            "\n",
            "Timezone: Asia/Tashkent\n",
            "Mean Squared Error: 0.0007214285714285714\n",
            "R-squared: -0.1892346509671996\n",
            "\n",
            "Timezone: Asia/Aden\n",
            "Mean Squared Error: 0.00712142857142857\n",
            "R-squared: -0.6792589027911451\n",
            "\n",
            "Timezone: Asia/Tokyo\n",
            "Mean Squared Error: 0.014228571428571427\n",
            "R-squared: 0.8930281085061986\n",
            "\n",
            "Timezone: Asia/Beirut\n",
            "Mean Squared Error: 7.1428571428571436e-06\n",
            "R-squared: 0.0\n",
            "\n",
            "Average Mean Squared Error:  0    0.408653\n",
            "dtype: float64\n",
            "Average R-squared:  0   -328.055447\n",
            "dtype: float64\n"
          ]
        }
      ]
    }
  ]
}